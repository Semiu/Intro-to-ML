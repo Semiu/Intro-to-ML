{
  "nbformat": 4,
  "nbformat_minor": 0,
  "metadata": {
    "colab": {
      "provenance": []
    },
    "kernelspec": {
      "name": "python3",
      "display_name": "Python 3"
    },
    "language_info": {
      "name": "python"
    }
  },
  "cells": [
    {
      "cell_type": "markdown",
      "source": [
        "Steps to consider before building the model:\n",
        "\n",
        "1. Data preparation and inspection - there are 1646 unlabelled image files in the train folder. The following are the stages for the data preparation phase:\n",
        "\n",
        "a. a csv file is prepared with three columns for image id, image vector, and class label. The image ids, by inspecting the images in the file, are manually filled into the image  id column. During this manual inspection and filling, the class label of the image is determined - 1 for Emergency vehicle, 0 for Non-emergency vehicle. The vector column is left blank. This stage is more required to explore machine learning technique \n",
        "\n",
        "b. For ML technique - Using libraries like image PIL, Numpy, Pandas, the images are read and the respective vector values, using np.array(image), are filled into the vector columns.\n",
        "\n",
        "c. For a DL technique approach would have different scripts covering all the functionalities of data resizing, transformation and vectorization\n",
        "\n",
        "2. Choice of techniques (a) cross validation (b) machine learning technique, and (b) Deep learning technique.\n",
        "\n",
        "The distribution of the class label would suggest the best cross validation technique. This is whether or not the class distribution is balanced. \n",
        "\n",
        "Tree models, such as Random Forest and XGboost, are good choices for computer vision problems because they do not make any assumption for linearity. \n",
        "\n",
        "There are different DL techniques, but Convolutional Neural Network has the reputation for best performance in solving computer vision problems"
      ],
      "metadata": {
        "id": "msRJnVO3kzE1"
      }
    },
    {
      "cell_type": "markdown",
      "source": [
        "Answering question 2:\n",
        "\n",
        "What effect does increasing the number of layers have on the model’s performance and time?\n",
        "\n",
        "Going by experience, increasing the number of layers of a DL model often leads to overfitting - that is, when the performance of the model on the validation data increases. It also lead to more time for training."
      ],
      "metadata": {
        "id": "u3l5CBEaoFV5"
      }
    },
    {
      "cell_type": "markdown",
      "source": [
        "Answering question 3:\n",
        "\n",
        "Was there a case of overfitting in the model? Explain.\n"
      ],
      "metadata": {
        "id": "sjW8O2p0pBvD"
      }
    },
    {
      "cell_type": "markdown",
      "source": [
        "Answering question 4:\n",
        "\n",
        "State the performance measure(s) you were most interested in and the reason(s)?"
      ],
      "metadata": {
        "id": "Aq9aXf7xpEDg"
      }
    },
    {
      "cell_type": "code",
      "execution_count": null,
      "metadata": {
        "id": "5BTmsGgSkoh-"
      },
      "outputs": [],
      "source": []
    }
  ]
}