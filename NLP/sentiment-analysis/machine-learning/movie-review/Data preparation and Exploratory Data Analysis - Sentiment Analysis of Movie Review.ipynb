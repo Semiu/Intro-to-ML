{
 "cells": [
  {
   "cell_type": "markdown",
   "id": "4887b610",
   "metadata": {},
   "source": [
    "### Obtaining the movie review dataset\n",
    "\n",
    "a. Download from http://ai.stanford.edu/~amaas/data/sentiment/\n",
    "\n",
    "b. Extract using Python's tarfile module"
   ]
  },
  {
   "cell_type": "code",
   "execution_count": 2,
   "id": "9ed49b5d",
   "metadata": {},
   "outputs": [],
   "source": [
    "import tarfile\n",
    "# The path here is where the compressed movie dataset is downloaded\n",
    "with tarfile.open(r\"C:\\Users\\Admin\\Downloads\\aclImdb_v1.tar.gz\", 'r:gz') as movie_dataset:\n",
    "    movie_dataset.extractall()"
   ]
  },
  {
   "cell_type": "markdown",
   "id": "d9d8ac6a",
   "metadata": {},
   "source": [
    "c. Preprocess the extracted dataset into a better format"
   ]
  },
  {
   "cell_type": "code",
   "execution_count": 3,
   "id": "7ad51f23",
   "metadata": {},
   "outputs": [
    {
     "name": "stderr",
     "output_type": "stream",
     "text": [
      "C:\\Users\\Admin\\AppData\\Local\\Temp\\ipykernel_22504\\4275360060.py:23: FutureWarning: The frame.append method is deprecated and will be removed from pandas in a future version. Use pandas.concat instead.\n",
      "  data_frame = data_frame.append([[text, labels[j]]], ignore_index = True)\n"
     ]
    }
   ],
   "source": [
    "# Import needed libraries\n",
    "import pyprind \n",
    "import pandas as pd\n",
    "import os\n",
    "import sys\n",
    "\n",
    "# Extracted data in the root folder of this notebook\n",
    "data_path = \"aclImdb\"\n",
    "\n",
    "# Class labelling 1 - positive, 0 - negative\n",
    "labels = {'pos': 1, 'neg': 0}\n",
    "progress_bar = pyprind.ProgBar(5000, stream = sys.stdout)\n",
    "data_frame = pd.DataFrame()\n",
    "\n",
    "# Look into both the test and train sub folders\n",
    "for i in ('test', 'train'):\n",
    "    for j in ('pos', 'neg'):\n",
    "        path = os.path.join(data_path, i, j)\n",
    "        for file in sorted(os.listdir(path)):\n",
    "            with open(os.path.join(path, file), 'r', encoding='utf-8') as infile:\n",
    "                text = infile.read()\n",
    "            \n",
    "            data_frame = data_frame.append([[text, labels[j]]], ignore_index = True)\n",
    "            \n",
    "            progress_bar.update()\n",
    "            \n",
    "data_frame.columns = ['review', 'sentiment']"
   ]
  },
  {
   "cell_type": "markdown",
   "id": "0503e945",
   "metadata": {},
   "source": [
    "d. Save newly-shuffled and assembled movie review dataset as a CSV file"
   ]
  },
  {
   "cell_type": "code",
   "execution_count": 4,
   "id": "9cc0ef3d",
   "metadata": {},
   "outputs": [],
   "source": [
    "import numpy as np\n",
    "np.random.seed(0)\n",
    "data_frame = data_frame.reindex(np.random.permutation(data_frame.index))\n",
    "\n",
    "# Save into a directory\n",
    "data_frame.to_csv('data/movie_data.csv', index = False, encoding='utf-8')"
   ]
  },
  {
   "cell_type": "markdown",
   "id": "5dfab83d",
   "metadata": {},
   "source": [
    "e. Check the saved data and do sanity check"
   ]
  },
  {
   "cell_type": "code",
   "execution_count": 5,
   "id": "610dae4d",
   "metadata": {},
   "outputs": [
    {
     "data": {
      "text/html": [
       "<div>\n",
       "<style scoped>\n",
       "    .dataframe tbody tr th:only-of-type {\n",
       "        vertical-align: middle;\n",
       "    }\n",
       "\n",
       "    .dataframe tbody tr th {\n",
       "        vertical-align: top;\n",
       "    }\n",
       "\n",
       "    .dataframe thead th {\n",
       "        text-align: right;\n",
       "    }\n",
       "</style>\n",
       "<table border=\"1\" class=\"dataframe\">\n",
       "  <thead>\n",
       "    <tr style=\"text-align: right;\">\n",
       "      <th></th>\n",
       "      <th>review</th>\n",
       "      <th>sentiment</th>\n",
       "    </tr>\n",
       "  </thead>\n",
       "  <tbody>\n",
       "    <tr>\n",
       "      <th>0</th>\n",
       "      <td>In 1974, the teenager Martha Moxley (Maggie Gr...</td>\n",
       "      <td>1</td>\n",
       "    </tr>\n",
       "    <tr>\n",
       "      <th>1</th>\n",
       "      <td>OK... so... I really like Kris Kristofferson a...</td>\n",
       "      <td>0</td>\n",
       "    </tr>\n",
       "    <tr>\n",
       "      <th>2</th>\n",
       "      <td>***SPOILER*** Do not read this, if you think a...</td>\n",
       "      <td>0</td>\n",
       "    </tr>\n",
       "    <tr>\n",
       "      <th>3</th>\n",
       "      <td>hi for all the people who have seen this wonde...</td>\n",
       "      <td>1</td>\n",
       "    </tr>\n",
       "    <tr>\n",
       "      <th>4</th>\n",
       "      <td>I recently bought the DVD, forgetting just how...</td>\n",
       "      <td>0</td>\n",
       "    </tr>\n",
       "  </tbody>\n",
       "</table>\n",
       "</div>"
      ],
      "text/plain": [
       "                                              review  sentiment\n",
       "0  In 1974, the teenager Martha Moxley (Maggie Gr...          1\n",
       "1  OK... so... I really like Kris Kristofferson a...          0\n",
       "2  ***SPOILER*** Do not read this, if you think a...          0\n",
       "3  hi for all the people who have seen this wonde...          1\n",
       "4  I recently bought the DVD, forgetting just how...          0"
      ]
     },
     "execution_count": 5,
     "metadata": {},
     "output_type": "execute_result"
    }
   ],
   "source": [
    "# Read the data\n",
    "prepared_data = pd.read_csv('data/movie_data.csv', encoding='utf-8')\n",
    "\n",
    "# Column renaming\n",
    "prepared_data = prepared_data.rename(columns = {\"0\": \"review\", \"1\": \"sentiment\"})\n",
    "\n",
    "# Show first five rows\n",
    "prepared_data.head(5)"
   ]
  },
  {
   "cell_type": "code",
   "execution_count": 6,
   "id": "c78509da",
   "metadata": {},
   "outputs": [
    {
     "data": {
      "text/plain": [
       "(50000, 2)"
      ]
     },
     "execution_count": 6,
     "metadata": {},
     "output_type": "execute_result"
    }
   ],
   "source": [
    "# Sanity check\n",
    "prepared_data.shape"
   ]
  },
  {
   "cell_type": "code",
   "execution_count": 7,
   "id": "abbc223b",
   "metadata": {},
   "outputs": [
    {
     "data": {
      "text/plain": [
       "review       0\n",
       "sentiment    0\n",
       "dtype: int64"
      ]
     },
     "execution_count": 7,
     "metadata": {},
     "output_type": "execute_result"
    }
   ],
   "source": [
    "#Check if there are missing values in the data\n",
    "prepared_data.isnull().sum()"
   ]
  },
  {
   "cell_type": "code",
   "execution_count": 9,
   "id": "8628c2d3",
   "metadata": {},
   "outputs": [
    {
     "data": {
      "text/plain": [
       "Text(0, 0.5, 'count')"
      ]
     },
     "execution_count": 9,
     "metadata": {},
     "output_type": "execute_result"
    },
    {
     "data": {
      "image/png": "[encoded data removed]",
      "text/plain": [
       "<Figure size 432x288 with 1 Axes>"
      ]
     },
     "metadata": {
      "needs_background": "light"
     },
     "output_type": "display_data"
    }
   ],
   "source": [
    "#Create a chart to check the class label distribution\n",
    "import seaborn as sns\n",
    "chart = sns.countplot(x='sentiment', data=prepared_data)\n",
    "chart.set_xlabel(\"sentiment\", fontsize = 20)\n",
    "chart.set_ylabel(\"count\", fontsize = 20)"
   ]
  },
  {
   "cell_type": "code",
   "execution_count": null,
   "id": "d622b5ea",
   "metadata": {},
   "outputs": [],
   "source": []
  }
 ],
 "metadata": {
  "kernelspec": {
   "display_name": "Python 3 (ipykernel)",
   "language": "python",
   "name": "python3"
  },
  "language_info": {
   "codemirror_mode": {
    "name": "ipython",
    "version": 3
   },
   "file_extension": ".py",
   "mimetype": "text/x-python",
   "name": "python",
   "nbconvert_exporter": "python",
   "pygments_lexer": "ipython3",
   "version": "3.10.10"
  }
 },
 "nbformat": 4,
 "nbformat_minor": 5
}
