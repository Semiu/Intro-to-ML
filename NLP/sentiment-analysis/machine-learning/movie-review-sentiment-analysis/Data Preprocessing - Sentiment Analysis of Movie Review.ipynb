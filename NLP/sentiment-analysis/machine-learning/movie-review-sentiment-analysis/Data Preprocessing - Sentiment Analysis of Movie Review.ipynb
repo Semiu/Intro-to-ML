{
 "cells": [
  {
   "cell_type": "markdown",
   "id": "287bcfa0",
   "metadata": {},
   "source": [
    "a. Cleaning text data"
   ]
  },
  {
   "cell_type": "code",
   "execution_count": 1,
   "id": "5607f251",
   "metadata": {},
   "outputs": [],
   "source": [
    "# Read the data\n",
    "import pandas as pd\n",
    "prepared_data = pd.read_csv(r\"C:\\Users\\Admin\\Documents\\Intro-to-ML\\NLP\\sentiment-analysis\\movie-review-data\\movie_data.csv\", encoding='utf-8')"
   ]
  },
  {
   "cell_type": "markdown",
   "id": "2cb12d99",
   "metadata": {},
   "source": [
    "i. Remove all non-text characters from the movie review data"
   ]
  },
  {
   "cell_type": "code",
   "execution_count": 2,
   "id": "4c7bf30c",
   "metadata": {},
   "outputs": [],
   "source": [
    "# Import the Regular Expression library\n",
    "import re\n",
    "# Define the preprocessor function\n",
    "def preprocessor(text):\n",
    "    text = re.sub('<[^>]*>', '', text)\n",
    "    emoticons = re.findall('(?::|;|=)(?:-)?(?:\\)|\\(|D|P)', text)\n",
    "    text = (re.sub('[\\W]+', '', text.lower()) + ''.join(emoticons).replace('-', ''))\n",
    "    return text"
   ]
  },
  {
   "cell_type": "code",
   "execution_count": 3,
   "id": "3beefad0",
   "metadata": {},
   "outputs": [],
   "source": [
    "# Apply the preprocessor function to the data. The review column\n",
    "prepared_data['review'] = prepared_data['review'].apply(preprocessor)"
   ]
  },
  {
   "cell_type": "code",
   "execution_count": 4,
   "id": "4d08fef7",
   "metadata": {},
   "outputs": [],
   "source": [
    "# Save the pre-processed movie data into the data directory - with a new file name\n",
    "prepared_data.to_csv(r\"C:\\Users\\Admin\\Documents\\Intro-to-ML\\NLP\\sentiment-analysis\\movie-review-data\\preprocessed_movie_data.csv\", index = False, encoding='utf-8')"
   ]
  },
  {
   "cell_type": "code",
   "execution_count": null,
   "id": "554826d7",
   "metadata": {},
   "outputs": [],
   "source": []
  }
 ],
 "metadata": {
  "kernelspec": {
   "display_name": "Python 3 (ipykernel)",
   "language": "python",
   "name": "python3"
  },
  "language_info": {
   "codemirror_mode": {
    "name": "ipython",
    "version": 3
   },
   "file_extension": ".py",
   "mimetype": "text/x-python",
   "name": "python",
   "nbconvert_exporter": "python",
   "pygments_lexer": "ipython3",
   "version": "3.10.10"
  }
 },
 "nbformat": 4,
 "nbformat_minor": 5
}
