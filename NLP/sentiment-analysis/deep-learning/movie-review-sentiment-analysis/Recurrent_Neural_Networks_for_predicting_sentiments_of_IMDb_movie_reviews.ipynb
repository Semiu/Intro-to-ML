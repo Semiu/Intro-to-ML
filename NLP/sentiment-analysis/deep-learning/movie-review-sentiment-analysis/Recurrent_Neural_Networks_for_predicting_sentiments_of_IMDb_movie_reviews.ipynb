{
 "cells": [
  {
   "cell_type": "markdown",
   "id": "dea08bde",
   "metadata": {},
   "source": [
    "## Jupyter Notebook Local Development Environment"
   ]
  },
  {
   "cell_type": "markdown",
   "id": "902144e2",
   "metadata": {
    "id": "902144e2"
   },
   "source": [
    "0. Install neccesary libraries "
   ]
  },
  {
   "cell_type": "markdown",
   "id": "LnaROAbZzsxB",
   "metadata": {
    "id": "LnaROAbZzsxB"
   },
   "source": [
    "1. Import the libraries"
   ]
  },
  {
   "cell_type": "code",
   "execution_count": null,
   "id": "54ArXIhRDhnt",
   "metadata": {
    "id": "54ArXIhRDhnt"
   },
   "outputs": [],
   "source": [
    "# Import libraries\n",
    "import torch\n",
    "import torch.nn as nn\n",
    "from torchtext.datasets import IMDB"
   ]
  },
  {
   "cell_type": "markdown",
   "id": "329ec716",
   "metadata": {
    "id": "329ec716"
   },
   "source": [
    "2a. Create the datasets: split the training dataset into seperate training and validation partitions"
   ]
  },
  {
   "cell_type": "code",
   "execution_count": null,
   "id": "IWtK756zDwtt",
   "metadata": {
    "id": "IWtK756zDwtt"
   },
   "outputs": [],
   "source": [
    "from torch.utils.data.dataset import random_split\n",
    "train_dataset = IMDB(split = 'train')\n",
    "test_dataset = IMDB(split = 'test')\n",
    "torch.manual_seed(1)\n",
    "# The original train dataset is 25000. This is being split randomly to 20000 and 5 for training and validation\n",
    "train_dataset, valid_dataset = random_split(list(train_dataset), [20000, 5000])"
   ]
  },
  {
   "cell_type": "markdown",
   "id": "bc82276a",
   "metadata": {
    "id": "bc82276a"
   },
   "source": [
    "2b. Find unique tokens - as a preparation for encoding data for NN."
   ]
  },
  {
   "cell_type": "code",
   "execution_count": null,
   "id": "a07e41ff",
   "metadata": {
    "id": "a07e41ff"
   },
   "outputs": [],
   "source": [
    "import re\n",
    "from collections import Counter, OrderedDict\n",
    "\n",
    "def tokenizer(text):\n",
    "    text = re.sub('<[^]*>', '', text)\n",
    "    emoticons = re.findall('(?::|;|=)(?::-)?(?:\\)|\\(|D|P)', text.lower())\n",
    "    text = re.sub('[\\W]+', ' ', text.lower()) + ''.join(emoticons).replace('-', '')\n",
    "    tokenized = text.split()\n",
    "    return tokenized\n",
    "\n",
    "token_counts = Counter()\n",
    "for label, line in train_dataset:\n",
    "    tokens = tokenizer(line)\n",
    "    token_counts.update(tokens)\n",
    "\n",
    "print('Vocab-size:', len(token_counts))"
   ]
  },
  {
   "cell_type": "markdown",
   "id": "05bee230",
   "metadata": {
    "id": "05bee230"
   },
   "source": [
    "3. Encode each unique token into integers - map each unique word (cleansed, preprocessed and tokenized by the `tokenizer` function) to a unique integer using the `vocab` method of `torchtext`.  "
   ]
  },
  {
   "cell_type": "code",
   "execution_count": null,
   "id": "48436986",
   "metadata": {
    "id": "48436986"
   },
   "outputs": [],
   "source": [
    "from torchtext.vocab import vocab\n",
    "\n",
    "sorted_by_freq_tuples = sorted(token_counts.items(), key=lambda x: x[1], reverse = True)\n",
    "\n",
    "ordered_dict = OrderedDict(sorted_by_freq_tuples)\n",
    "vocab = vocab(ordered_dict)\n",
    "vocab.insert_token(\"<pad>\", 0) # Placeholder - Padding for adjusting sequence length\n",
    "vocab.insert_token(\"<unk>\", 1) # Placehlder - Unknown words\n",
    "\n",
    "vocab.set_default(1)"
   ]
  },
  {
   "cell_type": "code",
   "execution_count": null,
   "id": "4377a654",
   "metadata": {
    "id": "4377a654"
   },
   "outputs": [],
   "source": [
    "#a. Define the function for transformation\n",
    "\n",
    "# Transform each text in the dataset\n",
    "text_pipeline = lambda x: [vocab[token] for token in tokenixer(x)]\n",
    "\n",
    "# Convert label to 1 and 0\n",
    "label_pipeline = lambda x: 1. if x == 'pos' else 0."
   ]
  },
  {
   "cell_type": "code",
   "execution_count": null,
   "id": "2bd8204b",
   "metadata": {
    "id": "2bd8204b"
   },
   "outputs": [],
   "source": [
    "#b. Wrap the encode and transformation function\n",
    "\n",
    "def collate_batch(batch):\n",
    "    label_list, text_list, lengths = [], [], []\n",
    "    for _label, _text in batch:\n",
    "        label_list.append(label_pipeline(_label))\n",
    "        processed_text = torch.tensor(text_pipeline(_text), dtype = torch.int=64)\n",
    "        text_list.append(processed_text)\n",
    "        lengths.append(processed_text.size(0))\n",
    "        \n",
    "    label_list = torch.tensor(label_list)\n",
    "    lengths = torch.tensor(label_list)\n",
    "    # automatically pad consecutive elements for all sequences to have the same shape\n",
    "    padded_text_list = nn.utils.rnn.pad_sequence(text_list, batch_first = True)\n",
    "    \n",
    "    return padded_text_list, lengths,label_list\n",
    "\n",
    "# Take a small batch - to illustrate how padding works\n",
    "from torch.utils.data import DataLoader\n",
    "dataloader = DataLoader(train_dataset, batch_size = 4, shuffle = False, collate_fn = collate_batch)\n",
    "\n",
    "text_batch, label_batch, length_batch = next(iter(dataloader))"
   ]
  },
  {
   "cell_type": "code",
   "execution_count": null,
   "id": "c612028f",
   "metadata": {
    "id": "c612028f"
   },
   "outputs": [],
   "source": [
    "print(text_batch)"
   ]
  },
  {
   "cell_type": "code",
   "execution_count": null,
   "id": "1dff40f7",
   "metadata": {
    "id": "1dff40f7"
   },
   "outputs": [],
   "source": [
    "print(label_batch)"
   ]
  },
  {
   "cell_type": "code",
   "execution_count": null,
   "id": "ce00e78f",
   "metadata": {
    "id": "ce00e78f"
   },
   "outputs": [],
   "source": [
    "print(length_batch)"
   ]
  },
  {
   "cell_type": "code",
   "execution_count": null,
   "id": "882e7fc0",
   "metadata": {
    "id": "882e7fc0"
   },
   "outputs": [],
   "source": [
    "print(text_batch.shape)"
   ]
  },
  {
   "cell_type": "code",
   "execution_count": null,
   "id": "169078ab",
   "metadata": {
    "id": "169078ab"
   },
   "outputs": [],
   "source": [
    "# Divide the datasets itno data loaders with a batch size of 32 - to have it in a suitable format for RNN\n",
    "batch_size = 32\n",
    "train_dl = DataLoader(train_dataset, batch_size = batch_size, shuffle = True, collate_fn = collate_batch)\n",
    "valid_dl = DataLoader(valid_dataset, batch_size = batch_size, shuffle = False, collate_fn = collate_batch)\n",
    "test_dl = DataLoader(test_dataset, batch_size = batch_size, shuffle = False, collate_fn = collate_batch)"
   ]
  },
  {
   "cell_type": "markdown",
   "id": "bf47fd09",
   "metadata": {
    "id": "bf47fd09"
   },
   "source": [
    "#### Embedding Layers for sentence encoding"
   ]
  },
  {
   "cell_type": "code",
   "execution_count": null,
   "id": "47262a0a",
   "metadata": {
    "id": "47262a0a"
   },
   "outputs": [],
   "source": [
    "# To reduce the dimensionality of the word vector - dimensionality of the output\n",
    "embedding = nn.Embedding(num_embeddings = 10, embedding_dim = 3, padding_idx = 0)\n",
    "\n",
    "# a batch of 2 (rank of 2) samples of 4 indices each - input length of 4\n",
    "text_encoded_input = torch.LongTensor([[1,2,4,5],[4,3,2,0]])\n",
    "print(embedding(text_encoded_input))"
   ]
  },
  {
   "cell_type": "markdown",
   "id": "ea288cf7",
   "metadata": {
    "id": "ea288cf7"
   },
   "source": [
    "#### Building RNN for sentiment analysis"
   ]
  },
  {
   "cell_type": "markdown",
   "id": "c2994d2c",
   "metadata": {
    "id": "c2994d2c"
   },
   "source": [
    "1. A recurrent layer of LSTM: for long sequences, LSTM layer supports long ranges"
   ]
  },
  {
   "cell_type": "code",
   "execution_count": null,
   "id": "eea379e8",
   "metadata": {
    "id": "eea379e8"
   },
   "outputs": [],
   "source": [
    "class RNN(nn.Module):\n",
    "    def __init__(self, vocab_size, embed_dim, rnn_hidden_size, fc_hidden_size):\n",
    "        super().__init__()\n",
    "        self.embedding = nn.Embedding(vocab_size, embed_dim, padding_idx = 0) # Embedding layer\n",
    "        \n",
    "        self.rnn = nn.LSTM(embed_dim, rnn_hidden_size, batch_first = True) # Recurrent layer of type LSTM\n",
    "        self.fc1 = nn.Linear(rnn_hidden_size, fc_hidden_size) # Fully connected layer as hidden layer\n",
    "        self.relu = nn.ReLU()\n",
    "        self.fc2 = nn.Linear(fc_hidden_size, 1) # Fully connected layer as an output layer\n",
    "        self.sigmoid = nn.Sigmoid() # Logistic sigmoid activation to produce single-class membership probability\n",
    "        \n",
    "    def forward(self, text, lengths):\n",
    "        out = self.embedding(text)\n",
    "        out = nn.utils.rnn.pack_padded_sequence(out, lengths.cpu().numpy(), enforce_sorted = False, batch_first = True)\n",
    "        out, (hidden, cell) = self.rnn(out)\n",
    "        out = hidden[-1, :, :]\n",
    "        out = self.fc1(out)\n",
    "        out = self.relu(out)\n",
    "        out = self.fc2(out)\n",
    "        out = self.sigmoid(out)\n",
    "        \n",
    "        return out\n",
    "\n",
    "vocab_size = len(vocab)\n",
    "embed_dim = 20 # feature size\n",
    "rn_hidden_size = 64\n",
    "torch.manual_seed(1)\n",
    "model = RNN(vocab_size, embed_dim, rnn_hidden_size, fc_hidden_size)\n",
    "model"
   ]
  },
  {
   "cell_type": "markdown",
   "id": "ba359b30",
   "metadata": {
    "id": "ba359b30"
   },
   "source": [
    "2. The `train` function to train the model on the given dataset for one epoch and return the classification accuracy and loss."
   ]
  },
  {
   "cell_type": "code",
   "execution_count": null,
   "id": "26f9e3ce",
   "metadata": {
    "id": "26f9e3ce"
   },
   "outputs": [],
   "source": [
    "def train(dataloader):\n",
    "    model.train()\n",
    "    trotal_acc, total_loss = 0, 0\n",
    "    for text_batch, label_batch, lengths in dataloader:\n",
    "        optimizer.zero_grad()\n",
    "        pred = model(text_batch, lengths)[:, 0]\n",
    "        loss = loss_fn(pred, label_batch)\n",
    "        loss.backward()\n",
    "        optimizer.step()\n",
    "        total_acc += ((pred >= 0.5).float() == label_batch).float().sum().item()\n",
    "        total_loss  += loss.item()*label_batch.size(0)\n",
    "        \n",
    "    return total_acc/len(dataloader.dataset), total_loss/len(dataloader.dataset)"
   ]
  },
  {
   "cell_type": "markdown",
   "id": "58d6ee8b",
   "metadata": {
    "id": "58d6ee8b"
   },
   "source": [
    "3. The `evaluate` function to measure the model's performance on a given dataset"
   ]
  },
  {
   "cell_type": "code",
   "execution_count": null,
   "id": "984a8420",
   "metadata": {
    "id": "984a8420"
   },
   "outputs": [],
   "source": [
    "def evaluate(dataloader):\n",
    "    model.eval()\n",
    "    total_acc, total_loss = 0, 0\n",
    "    \n",
    "    with torch.no_grad():\n",
    "        for text_batch, label_batch, lengths in dataloader:\n",
    "            pred = model(text_batch, lengths)[:, 0]\n",
    "            loss = loss_fn(pred, label_batch)\n",
    "            \n",
    "            total_acc += ((pred >= 0.5).float() == label_batch).float().sum().item()\n",
    "            total_loss  += loss.item()*label_batch.size(0)\n",
    "        \n",
    "    return total_acc/len(dataloader.dataset), total_loss/len(dataloader.dataset)"
   ]
  },
  {
   "cell_type": "markdown",
   "id": "9163177e",
   "metadata": {
    "id": "9163177e"
   },
   "source": [
    "4. The `loss` function and `optimizer` (Adam Optimizer)"
   ]
  },
  {
   "cell_type": "code",
   "execution_count": null,
   "id": "e27ca994",
   "metadata": {
    "id": "e27ca994"
   },
   "outputs": [],
   "source": [
    "loss_fn = nn.BCELoss() # for binary classification and a single-class membership probability output\n",
    "optimizer = torch.optim.Adam(model.parameters(), lr = 0.001)"
   ]
  },
  {
   "cell_type": "markdown",
   "id": "0d84fcce",
   "metadata": {
    "id": "0d84fcce"
   },
   "source": [
    "5. Train model for 10 epochs and display the training and validation performances"
   ]
  },
  {
   "cell_type": "code",
   "execution_count": null,
   "id": "3d6cc472",
   "metadata": {
    "id": "3d6cc472"
   },
   "outputs": [],
   "source": [
    "num_epochs = 10\n",
    "touch.manual_seed(1)\n",
    "for epoch in range(num_epochs):\n",
    "    acc_train, loss_train = train(train_dl)\n",
    "    acc_valid, loss_valid - evaluate(valid_dl)\n",
    "    print(f'Epoch {epoch} accuracy: {acc_train: .4f}'\n",
    "         f'val_accuracy: {acc_valid: .4f}')"
   ]
  },
  {
   "cell_type": "markdown",
   "id": "2742c5d7",
   "metadata": {
    "id": "2742c5d7"
   },
   "source": [
    "6. Evaluate on the test data"
   ]
  },
  {
   "cell_type": "code",
   "execution_count": null,
   "id": "65f1c5a8",
   "metadata": {
    "id": "65f1c5a8"
   },
   "outputs": [],
   "source": [
    "acc_test, _ = evaluate(test_dl)\n",
    "print(f'test_accuracy: {acc_test: .4f}')"
   ]
  },
  {
   "cell_type": "markdown",
   "id": "23b5897b",
   "metadata": {
    "id": "23b5897b"
   },
   "source": []
  }
 ],
 "metadata": {
  "colab": {
   "provenance": []
  },
  "gpuClass": "standard",
  "kernelspec": {
   "display_name": "Python 3 (ipykernel)",
   "language": "python",
   "name": "python3"
  },
  "language_info": {
   "codemirror_mode": {
    "name": "ipython",
    "version": 3
   },
   "file_extension": ".py",
   "mimetype": "text/x-python",
   "name": "python",
   "nbconvert_exporter": "python",
   "pygments_lexer": "ipython3",
   "version": "3.10.10"
  }
 },
 "nbformat": 4,
 "nbformat_minor": 5
}
