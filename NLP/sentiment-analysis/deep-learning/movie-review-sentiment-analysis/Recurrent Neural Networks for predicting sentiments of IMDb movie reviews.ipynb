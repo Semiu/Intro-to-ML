{
 "cells": [
  {
   "cell_type": "markdown",
   "id": "5c8aed8f",
   "metadata": {},
   "source": [
    "#### Preparing the movie review dataset"
   ]
  },
  {
   "cell_type": "markdown",
   "id": "5c379a93",
   "metadata": {},
   "source": [
    "1. Get the dataset"
   ]
  },
  {
   "cell_type": "code",
   "execution_count": null,
   "id": "851cd8f8",
   "metadata": {},
   "outputs": [],
   "source": [
    "# Install the torchtext library to get the IMDB dataset\n",
    "!pip install torchtext"
   ]
  },
  {
   "cell_type": "code",
   "execution_count": null,
   "id": "86c809d4",
   "metadata": {},
   "outputs": [],
   "source": [
    "from torchtext.datasets import IMDB\n",
    "\n",
    "train_dataset = IMDB(split = 'train')\n",
    "test_dataset = IMDB(split = 'test')"
   ]
  },
  {
   "cell_type": "markdown",
   "id": "628fcb93",
   "metadata": {},
   "source": [
    "2. Create the datasets"
   ]
  },
  {
   "cell_type": "code",
   "execution_count": null,
   "id": "f44c8fa8",
   "metadata": {},
   "outputs": [],
   "source": [
    "from torch.utils.data.dataset import random_split"
   ]
  },
  {
   "cell_type": "code",
   "execution_count": null,
   "id": "adc4780a",
   "metadata": {},
   "outputs": [],
   "source": []
  },
  {
   "cell_type": "code",
   "execution_count": null,
   "id": "6e24f593",
   "metadata": {},
   "outputs": [],
   "source": []
  },
  {
   "cell_type": "code",
   "execution_count": null,
   "id": "895ad322",
   "metadata": {},
   "outputs": [],
   "source": []
  },
  {
   "cell_type": "code",
   "execution_count": null,
   "id": "55a16247",
   "metadata": {},
   "outputs": [],
   "source": []
  },
  {
   "cell_type": "code",
   "execution_count": null,
   "id": "32062504",
   "metadata": {},
   "outputs": [],
   "source": []
  }
 ],
 "metadata": {
  "kernelspec": {
   "display_name": "Python 3 (ipykernel)",
   "language": "python",
   "name": "python3"
  },
  "language_info": {
   "codemirror_mode": {
    "name": "ipython",
    "version": 3
   },
   "file_extension": ".py",
   "mimetype": "text/x-python",
   "name": "python",
   "nbconvert_exporter": "python",
   "pygments_lexer": "ipython3",
   "version": "3.10.10"
  }
 },
 "nbformat": 4,
 "nbformat_minor": 5
}
