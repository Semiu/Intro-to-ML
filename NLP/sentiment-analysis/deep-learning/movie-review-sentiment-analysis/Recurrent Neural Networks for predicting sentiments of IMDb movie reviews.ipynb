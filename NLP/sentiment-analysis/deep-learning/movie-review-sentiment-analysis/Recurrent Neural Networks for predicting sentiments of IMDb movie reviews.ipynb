{
 "cells": [
  {
   "cell_type": "markdown",
   "id": "3b46f3fa",
   "metadata": {},
   "source": [
    "#### Preparing the movie review dataset"
   ]
  },
  {
   "cell_type": "markdown",
   "id": "902144e2",
   "metadata": {},
   "source": [
    "1. Get the dataset"
   ]
  },
  {
   "cell_type": "code",
   "execution_count": null,
   "id": "144b5a92",
   "metadata": {},
   "outputs": [],
   "source": [
    "# Install the torchtext library to get the IMDB dataset\n",
    "!pip install torchtext"
   ]
  },
  {
   "cell_type": "code",
   "execution_count": null,
   "id": "4aebb21c",
   "metadata": {},
   "outputs": [],
   "source": [
    "from torchtext.datasets import IMDB\n",
    "\n",
    "train_dataset = IMDB(split = 'train')\n",
    "test_dataset = IMDB(split = 'test')"
   ]
  },
  {
   "cell_type": "markdown",
   "id": "329ec716",
   "metadata": {},
   "source": [
    "2. Create the datasets"
   ]
  },
  {
   "cell_type": "code",
   "execution_count": null,
   "id": "0fec4b04",
   "metadata": {},
   "outputs": [],
   "source": [
    "from torch.utils.data.dataset import random_split\n",
    "torch.manual_seed(1)\n",
    "train_dataset, valid_dataset = random_split(list(train_dataset), [2000, 500])"
   ]
  },
  {
   "cell_type": "markdown",
   "id": "bc82276a",
   "metadata": {},
   "source": [
    "3. Find unique tokens"
   ]
  },
  {
   "cell_type": "code",
   "execution_count": null,
   "id": "a07e41ff",
   "metadata": {},
   "outputs": [],
   "source": [
    "import re\n",
    "from collections import Counter, OrderedDict\n",
    "\n",
    "def tokenizer(text):\n",
    "    text = re.sub('<[^]*>', '', text)\n",
    "    emoticons = re.findall('(?::|;|=)(?::-)?(?:\\)|\\(|D|P)', text.lower())\n",
    "    text = re.sub('[\\W]+', ' ', text.lower()) + ''.join(emoticons).replace('-', '')\n",
    "    tokenized = text.split()\n",
    "    return tokenized\n",
    "\n",
    "token_counts = Counter()\n",
    "for label, line in train_dataset:\n",
    "    tokens = tokenizer(line)\n",
    "    token_counts.update(tokens)\n",
    "\n",
    "print('Vocab-size:', len(token_counts))"
   ]
  },
  {
   "cell_type": "markdown",
   "id": "05bee230",
   "metadata": {},
   "source": [
    "4. Encode each unique token into integers"
   ]
  },
  {
   "cell_type": "code",
   "execution_count": null,
   "id": "48436986",
   "metadata": {},
   "outputs": [],
   "source": [
    "from torchtext.vocab import vocab\n",
    "\n",
    "sorted_by_freq_tuples = sorted(token_counts.items(), key=lambda x: x[1], reverse = True)\n",
    "\n",
    "ordered_dict = OrderedDict(sorted_by_freq_tuples)\n",
    "vocab = vocab(ordered_dict)\n",
    "vocab.insert_token(\"<pad>\", 0)\n",
    "vocab.insert_token(\"<unk>\", 1)\n",
    "\n",
    "vocab.set_default(1)"
   ]
  },
  {
   "cell_type": "code",
   "execution_count": null,
   "id": "4377a654",
   "metadata": {},
   "outputs": [],
   "source": [
    "# Define the function for transformation\n",
    "\n",
    "text_pipeline = lambda x: [vocab[token] for token in tokenixer(x)]\n",
    "\n",
    "label_pipeline = lambda x: 1. if x == 'pos' else 0."
   ]
  },
  {
   "cell_type": "code",
   "execution_count": null,
   "id": "2bd8204b",
   "metadata": {},
   "outputs": [],
   "source": [
    "# Wrap the encode and transformation function\n",
    "\n",
    "def collate_batch(batch):\n",
    "    label_list, text_list, lengths = [], [], []\n",
    "    for _label, _text in batch:\n",
    "        label_list.append(label_pipeline(_label))\n",
    "        processed_text = torch.tensor(text_pipeline)"
   ]
  },
  {
   "cell_type": "code",
   "execution_count": null,
   "id": "c612028f",
   "metadata": {},
   "outputs": [],
   "source": []
  },
  {
   "cell_type": "code",
   "execution_count": null,
   "id": "1dff40f7",
   "metadata": {},
   "outputs": [],
   "source": []
  },
  {
   "cell_type": "code",
   "execution_count": null,
   "id": "e2f90564",
   "metadata": {},
   "outputs": [],
   "source": []
  },
  {
   "cell_type": "code",
   "execution_count": null,
   "id": "bbb3bfb5",
   "metadata": {},
   "outputs": [],
   "source": []
  }
 ],
 "metadata": {
  "kernelspec": {
   "display_name": "Python 3 (ipykernel)",
   "language": "python",
   "name": "python3"
  },
  "language_info": {
   "codemirror_mode": {
    "name": "ipython",
    "version": 3
   },
   "file_extension": ".py",
   "mimetype": "text/x-python",
   "name": "python",
   "nbconvert_exporter": "python",
   "pygments_lexer": "ipython3",
   "version": "3.10.10"
  }
 },
 "nbformat": 4,
 "nbformat_minor": 5
}
