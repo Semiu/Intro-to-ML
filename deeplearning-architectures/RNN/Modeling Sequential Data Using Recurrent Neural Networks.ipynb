{
 "cells": [
  {
   "cell_type": "markdown",
   "id": "54e80a71",
   "metadata": {},
   "source": [
    "### Building blocks of RNN"
   ]
  },
  {
   "cell_type": "markdown",
   "id": "51ef2170",
   "metadata": {},
   "source": [
    "\n",
    "\n",
    "Create a recurrent layer from **RNN**, perform a forward pass on an input of lenght of 3 to compute the output.\n",
    "\n",
    "Then, manually compute the forward pass and compare the results with those of RNN."
   ]
  },
  {
   "cell_type": "markdown",
   "id": "01114a71",
   "metadata": {},
   "source": [
    "Forward pass for Recurrent architecture. \n",
    "\n",
    "Using `torch.nn` module, a recurrent layer can be defined via **RNN**. Similar to the hidden-to-hidden recurrence. "
   ]
  },
  {
   "cell_type": "code",
   "execution_count": null,
   "id": "0d73c03e",
   "metadata": {},
   "outputs": [],
   "source": [
    "import torch\n",
    "import torch.nn as nn\n",
    "torch.manual_seed(1)\n",
    "# input layer where the first dimension is the batch_size\n",
    "rnn_layer = nn.RNN(input_size = 5, hidden_size = 2, num_layers = 1, batch_first = True)\n",
    "w_xh = rnn_layer.weight_ih_l0\n",
    "w_hh = rnn_layer.weight.hh_l0\n",
    "b_xh = rnn_layer.bias_ih_l0\n",
    "b_hh = rnn_layer.bias_hh_l0\n",
    "print('w_xh shape:', w_xh.shape)\n",
    "print('w_hh shape:', w_hh.shape)\n",
    "print('b_xh shape:', b_xh.shape)\n",
    "print('b_hh shape:', b_hh.shape)"
   ]
  },
  {
   "cell_type": "code",
   "execution_count": null,
   "id": "edd2a0c7",
   "metadata": {},
   "outputs": [],
   "source": [
    "x_seq = torch.tensor([[1.0]*5, [2.0]*5, [3.0]*5]).float()\n",
    "# output of the sample RNN\n",
    "output, hn = rnn_layer(torch.reshape(x_seq, (1,3,5)))\n",
    "# manually computing the output\n",
    "out_man = []\n",
    "for t in range(3):\n",
    "    xt = torch.reshape(x_seq[t], (1,5))\n",
    "    print(f'Time step {t} =>')\n",
    "    print(' Input :', xt.numpy())\n",
    "    \n",
    "    ht = torch.matmul(xt, torch.transpose(w_xh, 0, 1)) + b_hh\n",
    "    print(' Hidden :', ht.detach.numpy())\n",
    "    if t > 0:\n",
    "        prev_h = oot_man[t-1]\n",
    "    else:\n",
    "        prev_h = torch.zeros((ht.shape))\n",
    "    ot = ht + torch.matmul(prev_h, torch.transpose(w_hh, 0, 1)) + h_hh\n",
    "    # Hyberbolic tangent as the activation function since RNN uses it as default\n",
    "    ot = torch.tanh\n",
    "    out_man.append(ot)\n",
    "    \n",
    "    print(' Output (manual):', ot.detach().numpy())\n",
    "    print(' RNN output:', output[:, t].detach().numpy())\n",
    "    print()\n",
    "    "
   ]
  },
  {
   "cell_type": "markdown",
   "id": "c18abb9c",
   "metadata": {},
   "source": [
    "#### Building an RNN model"
   ]
  },
  {
   "cell_type": "code",
   "execution_count": null,
   "id": "6328c855",
   "metadata": {},
   "outputs": [],
   "source": [
    "class RNN(nn.Module):\n",
    "    def __init__(self, input_size, hidden_size):\n",
    "        super().__init__()\n",
    "        self.rnn = nn.RNN(input_size, hidden_size, num_layers = 2, batch_first = True)\n",
    "        # self.rnn = nn.GRU(input_size, hidden_size, num_layers = 2, batch_first = True)\n",
    "        # self.rnn = nn.LSTM(input_size, hidden_size, num_layers = 2, batch_first = True)\n",
    "        self.fc = nn.Linear(hidden_size, 1)\n",
    "    \n",
    "    def forward(self, x):\n",
    "        _, hidden = self.rnn(x)\n",
    "        out = hidden[-1, :, :] # we use the final hidden state from the last hidden layer as input to the fully connected layer\n",
    "        out = self.fc(out)\n",
    "        return out\n",
    "    \n",
    "model = RNN(64, 32)\n",
    "print(model)\n",
    "model(torch.randn(5, 3, 64))"
   ]
  },
  {
   "cell_type": "markdown",
   "id": "4160e689",
   "metadata": {},
   "source": [
    "#### More on Bidirectional RNN"
   ]
  },
  {
   "cell_type": "code",
   "execution_count": null,
   "id": "7036d7aa",
   "metadata": {},
   "outputs": [],
   "source": [
    "class RNN(nn.Module):\n",
    "    def __init__(self, vocab_size, embed_dim, rnn_hidden_size, fc_hidden):\n",
    "        super().__init__()\n",
    "        self.embedding = nn.Embedding(vocab_size, embed_dim, padding_idx = 0)\n",
    "        self.rnn = nn.LSTM(embed_dim, rnn_hidden_size, batch_first = True, bidirectional = True)\n",
    "        self.fc1 = nn.Linear(rnn_hidden_size*2, fc_hidden_size)\n",
    "        self_relu = nn.ReLU()\n",
    "        self.fc2 = nn.Linear(fc_hidden_size, 1)\n",
    "        self_sigmoid = nn.Sigmoid()\n",
    "    \n",
    "    def forward(self, text, lengths):\n",
    "        out = self.embedding(text)\n",
    "        out = nn.utils.rnn.pack_padded_sequence(out, lengths.cpu().numpy, enforce_sorted = False, batch_first = True)\n",
    "        _, (hidden, cell) = self.rnn(out)\n",
    "        out = torch.cat((hidden[-2, :, :], hidden[-1, :, :]), dim = 1)\n",
    "        out = self.fc1(out)\n",
    "        out = self.relu(out)\n",
    "        out = self.fc2(out)\n",
    "        out = self.sigmoid(out)\n",
    "        \n",
    "        return out"
   ]
  },
  {
   "cell_type": "code",
   "execution_count": null,
   "id": "81d6b0c2",
   "metadata": {},
   "outputs": [],
   "source": [
    "torch.manual_seed(1)\n",
    "model = RNN(vocab_size, embed_dim, rnn_hidden_size, fc_hidden_size)\n",
    "model"
   ]
  },
  {
   "cell_type": "code",
   "execution_count": null,
   "id": "1debc2d1",
   "metadata": {},
   "outputs": [],
   "source": []
  },
  {
   "cell_type": "code",
   "execution_count": null,
   "id": "aa89b794",
   "metadata": {},
   "outputs": [],
   "source": []
  }
 ],
 "metadata": {
  "kernelspec": {
   "display_name": "Python 3 (ipykernel)",
   "language": "python",
   "name": "python3"
  },
  "language_info": {
   "codemirror_mode": {
    "name": "ipython",
    "version": 3
   },
   "file_extension": ".py",
   "mimetype": "text/x-python",
   "name": "python",
   "nbconvert_exporter": "python",
   "pygments_lexer": "ipython3",
   "version": "3.10.10"
  }
 },
 "nbformat": 4,
 "nbformat_minor": 5
}
